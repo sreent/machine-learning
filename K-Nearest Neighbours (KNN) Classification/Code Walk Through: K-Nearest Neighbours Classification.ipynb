{
  "nbformat": 4,
  "nbformat_minor": 0,
  "metadata": {
    "colab": {
      "provenance": [],
      "authorship_tag": "ABX9TyNQLvmAeGBonMPiutNnPITO",
      "include_colab_link": true
    },
    "kernelspec": {
      "name": "python3",
      "display_name": "Python 3"
    },
    "language_info": {
      "name": "python"
    }
  },
  "cells": [
    {
      "cell_type": "markdown",
      "metadata": {
        "id": "view-in-github",
        "colab_type": "text"
      },
      "source": [
        "<a href=\"https://colab.research.google.com/github/sreent/machine-learning/blob/main/K-Nearest%20Neighbours%20(KNN)%20Classification/Code%20Walk%20Through%3A%20K-Nearest%20Neighbours%20Classification.ipynb\" target=\"_parent\"><img src=\"https://colab.research.google.com/assets/colab-badge.svg\" alt=\"Open In Colab\"/></a>"
      ]
    },
    {
      "cell_type": "code",
      "execution_count": null,
      "metadata": {
        "id": "jUjkz-j_vlcC"
      },
      "outputs": [],
      "source": [
        "import numpy as np"
      ]
    },
    {
      "cell_type": "code",
      "source": [
        "X_train = np.array( [ [1.536, 3.554],\n",
        "                      [1.771, 2.783],\n",
        "                      [2.506, 2.880],\n",
        "                      [2.652, 4.545],\n",
        "                      [3.590, 3.784],\n",
        "                      [1.279, 1.443],\n",
        "                      [2.000, 2.325],\n",
        "                      [2.096, 0.583],\n",
        "                      [2.539, 1.541],\n",
        "                      [3.251, 0.080] ] )\n",
        "\n",
        "y_train = np.array( [0, 0, 0, 0, 0, 1, 1, 1, 1, 1] )"
      ],
      "metadata": {
        "id": "wRw7sLB_vpHk"
      },
      "execution_count": null,
      "outputs": []
    },
    {
      "cell_type": "code",
      "source": [
        "X_train"
      ],
      "metadata": {
        "id": "ypueE1gMxPn2"
      },
      "execution_count": null,
      "outputs": []
    },
    {
      "cell_type": "code",
      "source": [
        "y_train"
      ],
      "metadata": {
        "id": "QcZe1CiOxSxS"
      },
      "execution_count": null,
      "outputs": []
    },
    {
      "cell_type": "code",
      "source": [
        "import matplotlib.pyplot as plt\n",
        "\n",
        "plt.scatter(X_train[y_train==0,0], X_train[y_train==0,1], label=\"0\")\n",
        "plt.scatter(X_train[y_train==1,0], X_train[y_train==1,1], label=\"1\")\n",
        "plt.axis([0, 5, 0, 5])\n",
        "plt.xlabel('$x_1$')\n",
        "plt.ylabel('$x_2$')\n",
        "plt.grid()\n",
        "plt.legend()\n",
        "plt.show()"
      ],
      "metadata": {
        "id": "WAJDX95UxUX9"
      },
      "execution_count": null,
      "outputs": []
    },
    {
      "cell_type": "code",
      "source": [
        "# Test data point\n",
        "X_test = np.array([[2, 2]])"
      ],
      "metadata": {
        "id": "aiK1Asdcx1QO"
      },
      "execution_count": null,
      "outputs": []
    },
    {
      "cell_type": "code",
      "source": [
        "X_test"
      ],
      "metadata": {
        "id": "c7pLDZERx-cf"
      },
      "execution_count": null,
      "outputs": []
    },
    {
      "cell_type": "code",
      "source": [
        "from sklearn.metrics import pairwise_distances"
      ],
      "metadata": {
        "id": "_TIjlypszKsI"
      },
      "execution_count": null,
      "outputs": []
    },
    {
      "cell_type": "code",
      "source": [
        "d = pairwise_distances(X_test, X_train).ravel()\n",
        "d"
      ],
      "metadata": {
        "id": "D10BKuBAzSYQ"
      },
      "execution_count": null,
      "outputs": []
    },
    {
      "cell_type": "code",
      "source": [
        "J = np.argsort(d)[:5]\n",
        "J"
      ],
      "metadata": {
        "id": "WB14ExEuzZpG"
      },
      "execution_count": null,
      "outputs": []
    },
    {
      "cell_type": "code",
      "source": [
        "labels, counts = np.unique(y_train[J], return_counts=True)\n",
        "labels, counts"
      ],
      "metadata": {
        "id": "A3YiZ4f2zaIa"
      },
      "execution_count": null,
      "outputs": []
    },
    {
      "cell_type": "code",
      "source": [
        "pred = labels[np.argmax(counts)]\n",
        "pred"
      ],
      "metadata": {
        "id": "lW4OyIk0z8oI"
      },
      "execution_count": null,
      "outputs": []
    },
    {
      "cell_type": "code",
      "source": [
        "from collections import Counter"
      ],
      "metadata": {
        "id": "5zjR6yWD0Igh"
      },
      "execution_count": null,
      "outputs": []
    },
    {
      "cell_type": "code",
      "source": [
        "Counter(y_train[J]).most_common(1)"
      ],
      "metadata": {
        "id": "YjPfh7-T0htr"
      },
      "execution_count": null,
      "outputs": []
    },
    {
      "cell_type": "code",
      "source": [
        "pred = Counter(y_train[J]).most_common(1)[0][0]\n",
        "pred"
      ],
      "metadata": {
        "id": "YP9Edb9s0zWj"
      },
      "execution_count": null,
      "outputs": []
    },
    {
      "cell_type": "code",
      "source": [],
      "metadata": {
        "id": "vuoOpEBN1AKt"
      },
      "execution_count": null,
      "outputs": []
    },
    {
      "cell_type": "code",
      "source": [
        "def distances(X_train, X_test) :\n",
        "  d = np.empty(X_train.shape[0])\n",
        "  for i in range(X_train.shape[0]) :\n",
        "    d[i] = np.sqrt( np.sum( (X_train[i] - X_test)**2 ) )\n",
        "\n",
        "  return d\n",
        "\n",
        "distances(X_train, X_test)"
      ],
      "metadata": {
        "id": "bjGiHMdo3Zd6"
      },
      "execution_count": null,
      "outputs": []
    }
  ]
}