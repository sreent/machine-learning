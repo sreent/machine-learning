{
  "nbformat": 4,
  "nbformat_minor": 0,
  "metadata": {
    "colab": {
      "provenance": [],
      "authorship_tag": "ABX9TyPFSQie0+xeC4hIKO4jdigH",
      "include_colab_link": true
    },
    "kernelspec": {
      "name": "python3",
      "display_name": "Python 3"
    },
    "language_info": {
      "name": "python"
    }
  },
  "cells": [
    {
      "cell_type": "markdown",
      "metadata": {
        "id": "view-in-github",
        "colab_type": "text"
      },
      "source": [
        "<a href=\"https://colab.research.google.com/github/sreent/machine-learning/blob/main/K-Nearest%20Neighbours%20Regression/KNN%20Regression%20Code%20Walk%20Through.ipynb\" target=\"_parent\"><img src=\"https://colab.research.google.com/assets/colab-badge.svg\" alt=\"Open In Colab\"/></a>"
      ]
    },
    {
      "cell_type": "code",
      "execution_count": null,
      "metadata": {
        "id": "jUjkz-j_vlcC"
      },
      "outputs": [],
      "source": [
        "import numpy as np"
      ]
    },
    {
      "cell_type": "code",
      "source": [
        "X_train = np.array( [ [0.377, 2.222],\n",
        "                      [0.933, 0.566],\n",
        "                      [1.525, 2.854],\n",
        "                      [1.691, 1.048],\n",
        "                      [2.173, 2.518],\n",
        "                      [2.573, 2.298],\n",
        "                      [2.687, 3.891],\n",
        "                      [2.959, 2.108],\n",
        "                      [3.340, 1.234],\n",
        "                      [3.465, 3.062] ] )\n",
        "\n",
        "y_train = np.array( [1, 3, 4, 4, 5, 4, 6, 5, 4, 6] )"
      ],
      "metadata": {
        "id": "wRw7sLB_vpHk"
      },
      "execution_count": null,
      "outputs": []
    },
    {
      "cell_type": "code",
      "source": [
        "X_train"
      ],
      "metadata": {
        "id": "ypueE1gMxPn2"
      },
      "execution_count": null,
      "outputs": []
    },
    {
      "cell_type": "code",
      "source": [
        "y_train"
      ],
      "metadata": {
        "id": "QcZe1CiOxSxS"
      },
      "execution_count": null,
      "outputs": []
    },
    {
      "cell_type": "code",
      "source": [
        "import matplotlib.pyplot as plt\n",
        "\n",
        "plt.scatter(X_train[:,0], X_train[:,1], c=y_train, cmap=\"winter\")\n",
        "plt.axis([0, 5, 0, 5])\n",
        "plt.xlabel('$x_1$')\n",
        "plt.ylabel('$x_2$')\n",
        "plt.grid()\n",
        "plt.show()"
      ],
      "metadata": {
        "id": "WAJDX95UxUX9"
      },
      "execution_count": null,
      "outputs": []
    },
    {
      "cell_type": "code",
      "source": [
        "# Test data point\n",
        "X_test = np.array([[2, 2]])"
      ],
      "metadata": {
        "id": "aiK1Asdcx1QO"
      },
      "execution_count": null,
      "outputs": []
    },
    {
      "cell_type": "code",
      "source": [
        "X_test"
      ],
      "metadata": {
        "id": "c7pLDZERx-cf"
      },
      "execution_count": null,
      "outputs": []
    },
    {
      "cell_type": "code",
      "source": [
        "from sklearn.metrics import pairwise_distances"
      ],
      "metadata": {
        "id": "_TIjlypszKsI"
      },
      "execution_count": null,
      "outputs": []
    },
    {
      "cell_type": "code",
      "source": [
        "d = pairwise_distances(X_test, X_train).ravel()\n",
        "d"
      ],
      "metadata": {
        "id": "D10BKuBAzSYQ"
      },
      "execution_count": null,
      "outputs": []
    },
    {
      "cell_type": "code",
      "source": [
        "J = np.argsort(d)[:5]\n",
        "J"
      ],
      "metadata": {
        "id": "WB14ExEuzZpG"
      },
      "execution_count": null,
      "outputs": []
    },
    {
      "cell_type": "code",
      "source": [
        " y_train[J]"
      ],
      "metadata": {
        "id": "A3YiZ4f2zaIa"
      },
      "execution_count": null,
      "outputs": []
    },
    {
      "cell_type": "code",
      "source": [
        "pred = y_train[J].mean()\n",
        "pred"
      ],
      "metadata": {
        "id": "lW4OyIk0z8oI"
      },
      "execution_count": null,
      "outputs": []
    }
  ]
}